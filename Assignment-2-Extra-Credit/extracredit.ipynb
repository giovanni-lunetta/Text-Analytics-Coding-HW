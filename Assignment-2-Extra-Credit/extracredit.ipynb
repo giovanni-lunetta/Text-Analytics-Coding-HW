{
 "cells": [
  {
   "cell_type": "markdown",
   "metadata": {},
   "source": [
    "# Supervised Learning Coding Extra Credit"
   ]
  },
  {
   "cell_type": "markdown",
   "metadata": {},
   "source": [
    "### 1. Take a random sample of 100 rows from teacher_utterance_labels. (df.sample(50))"
   ]
  },
  {
   "cell_type": "code",
   "execution_count": 66,
   "metadata": {},
   "outputs": [],
   "source": [
    "import pandas as pd\n",
    "import numpy as np"
   ]
  },
  {
   "cell_type": "code",
   "execution_count": 67,
   "metadata": {},
   "outputs": [
    {
     "data": {
      "text/html": [
       "<div>\n",
       "<style scoped>\n",
       "    .dataframe tbody tr th:only-of-type {\n",
       "        vertical-align: middle;\n",
       "    }\n",
       "\n",
       "    .dataframe tbody tr th {\n",
       "        vertical-align: top;\n",
       "    }\n",
       "\n",
       "    .dataframe thead th {\n",
       "        text-align: right;\n",
       "    }\n",
       "</style>\n",
       "<table border=\"1\" class=\"dataframe\">\n",
       "  <thead>\n",
       "    <tr style=\"text-align: right;\">\n",
       "      <th></th>\n",
       "      <th>transcript_id</th>\n",
       "      <th>utterance_id</th>\n",
       "      <th>teacher_utterance_number</th>\n",
       "      <th>text</th>\n",
       "      <th>gold_standard</th>\n",
       "    </tr>\n",
       "  </thead>\n",
       "  <tbody>\n",
       "    <tr>\n",
       "      <th>3983</th>\n",
       "      <td>107</td>\n",
       "      <td>11578</td>\n",
       "      <td>44</td>\n",
       "      <td>oh I see thumbs going up so fast liam one don'...</td>\n",
       "      <td>classroom management</td>\n",
       "    </tr>\n",
       "  </tbody>\n",
       "</table>\n",
       "</div>"
      ],
      "text/plain": [
       "      transcript_id  utterance_id  teacher_utterance_number  \\\n",
       "3983            107         11578                        44   \n",
       "\n",
       "                                                   text         gold_standard  \n",
       "3983  oh I see thumbs going up so fast liam one don'...  classroom management  "
      ]
     },
     "execution_count": 67,
     "metadata": {},
     "output_type": "execute_result"
    }
   ],
   "source": [
    "df = pd.read_excel(\"/Users/giovanni-lunetta/uconn_masters/s2/epsy_5643/Assignment-2/Assignment-2/teacher_utterance_labels.xlsx\")\n",
    "df.sample()"
   ]
  },
  {
   "cell_type": "code",
   "execution_count": 68,
   "metadata": {},
   "outputs": [
    {
     "data": {
      "text/plain": [
       "math_instruction\n",
       "1    8564\n",
       "0    2238\n",
       "Name: count, dtype: int64"
      ]
     },
     "execution_count": 68,
     "metadata": {},
     "output_type": "execute_result"
    }
   ],
   "source": [
    "df[\"math_instruction\"] = np.where(df.gold_standard == \"math instruction\", 1, 0)\n",
    "df.math_instruction.value_counts()"
   ]
  },
  {
   "cell_type": "code",
   "execution_count": 69,
   "metadata": {},
   "outputs": [],
   "source": [
    "sampled_df = df.sample(100, random_state=2896849)"
   ]
  },
  {
   "cell_type": "code",
   "execution_count": 70,
   "metadata": {},
   "outputs": [
    {
     "data": {
      "text/plain": [
       "math_instruction\n",
       "1    79\n",
       "0    21\n",
       "Name: count, dtype: int64"
      ]
     },
     "execution_count": 70,
     "metadata": {},
     "output_type": "execute_result"
    }
   ],
   "source": [
    "sampled_df[\"math_instruction\"].value_counts()"
   ]
  },
  {
   "cell_type": "markdown",
   "metadata": {},
   "source": [
    "### 2. Export the utterance_id and text to an excel file (.to_excel). Do not export the other columns."
   ]
  },
  {
   "cell_type": "code",
   "execution_count": 71,
   "metadata": {},
   "outputs": [],
   "source": [
    "export_df = sampled_df[['utterance_id', 'text']]"
   ]
  },
  {
   "cell_type": "code",
   "execution_count": 72,
   "metadata": {},
   "outputs": [],
   "source": [
    "# export_df.to_excel('/Users/giovanni-lunetta/uconn_masters/s2/epsy_5643/Assignment-2/Assignment-2-Extra-Credit/utterances_sample.xlsx', index=False)"
   ]
  },
  {
   "cell_type": "markdown",
   "metadata": {},
   "source": [
    "### 3. Create a new column called math_instruction_gold. Then, in each row, classify the utterance by hand according to your codebook. 1 = math instruction\n",
    "\n",
    "Column created in excel file"
   ]
  },
  {
   "cell_type": "markdown",
   "metadata": {},
   "source": [
    "### 4. Calculate accuracy, recall, and precision between your hand codes and the original \"gold_standard\" I provided."
   ]
  },
  {
   "cell_type": "code",
   "execution_count": 73,
   "metadata": {},
   "outputs": [],
   "source": [
    "df_gold_standard = pd.read_excel('/Users/giovanni-lunetta/uconn_masters/s2/epsy_5643/Assignment-2/Assignment-2-Extra-Credit/utterances_sample.xlsx')"
   ]
  },
  {
   "cell_type": "code",
   "execution_count": 74,
   "metadata": {},
   "outputs": [],
   "source": [
    "sampled_df = sampled_df.set_index('utterance_id')\n",
    "df_gold_standard = df_gold_standard.set_index('utterance_id')"
   ]
  },
  {
   "cell_type": "code",
   "execution_count": 75,
   "metadata": {},
   "outputs": [
    {
     "data": {
      "text/html": [
       "<div>\n",
       "<style scoped>\n",
       "    .dataframe tbody tr th:only-of-type {\n",
       "        vertical-align: middle;\n",
       "    }\n",
       "\n",
       "    .dataframe tbody tr th {\n",
       "        vertical-align: top;\n",
       "    }\n",
       "\n",
       "    .dataframe thead th {\n",
       "        text-align: right;\n",
       "    }\n",
       "</style>\n",
       "<table border=\"1\" class=\"dataframe\">\n",
       "  <thead>\n",
       "    <tr style=\"text-align: right;\">\n",
       "      <th></th>\n",
       "      <th>text</th>\n",
       "      <th>math_instruction_gold</th>\n",
       "      <th>math_instruction</th>\n",
       "    </tr>\n",
       "    <tr>\n",
       "      <th>utterance_id</th>\n",
       "      <th></th>\n",
       "      <th></th>\n",
       "      <th></th>\n",
       "    </tr>\n",
       "  </thead>\n",
       "  <tbody>\n",
       "    <tr>\n",
       "      <th>11524</th>\n",
       "      <td>Could you count that? Where would you count fi...</td>\n",
       "      <td>1</td>\n",
       "      <td>1</td>\n",
       "    </tr>\n",
       "    <tr>\n",
       "      <th>6437</th>\n",
       "      <td>Nolan, tell me how you did it. Oh, okay. Would...</td>\n",
       "      <td>1</td>\n",
       "      <td>1</td>\n",
       "    </tr>\n",
       "    <tr>\n",
       "      <th>1679</th>\n",
       "      <td>So let's go ahead and read it all again. Jane ...</td>\n",
       "      <td>1</td>\n",
       "      <td>1</td>\n",
       "    </tr>\n",
       "    <tr>\n",
       "      <th>213</th>\n",
       "      <td>That's okay, too, because this is our first we...</td>\n",
       "      <td>0</td>\n",
       "      <td>1</td>\n",
       "    </tr>\n",
       "    <tr>\n",
       "      <th>1327</th>\n",
       "      <td>it's telling you to add. And what if you're lo...</td>\n",
       "      <td>1</td>\n",
       "      <td>1</td>\n",
       "    </tr>\n",
       "    <tr>\n",
       "      <th>...</th>\n",
       "      <td>...</td>\n",
       "      <td>...</td>\n",
       "      <td>...</td>\n",
       "    </tr>\n",
       "    <tr>\n",
       "      <th>10921</th>\n",
       "      <td>These two numbers are representing what  60 an...</td>\n",
       "      <td>1</td>\n",
       "      <td>1</td>\n",
       "    </tr>\n",
       "    <tr>\n",
       "      <th>1173</th>\n",
       "      <td>That's fine. There's word problems on the back...</td>\n",
       "      <td>0</td>\n",
       "      <td>0</td>\n",
       "    </tr>\n",
       "    <tr>\n",
       "      <th>7338</th>\n",
       "      <td>By ones the way Elise did? Or by 10s? The way ...</td>\n",
       "      <td>1</td>\n",
       "      <td>1</td>\n",
       "    </tr>\n",
       "    <tr>\n",
       "      <th>5727</th>\n",
       "      <td>Yeah, yeah. Is everyone listening? Yeah. If yo...</td>\n",
       "      <td>0</td>\n",
       "      <td>0</td>\n",
       "    </tr>\n",
       "    <tr>\n",
       "      <th>6382</th>\n",
       "      <td>Good. So if you started if you were doing that...</td>\n",
       "      <td>1</td>\n",
       "      <td>1</td>\n",
       "    </tr>\n",
       "  </tbody>\n",
       "</table>\n",
       "<p>100 rows × 3 columns</p>\n",
       "</div>"
      ],
      "text/plain": [
       "                                                           text  \\\n",
       "utterance_id                                                      \n",
       "11524         Could you count that? Where would you count fi...   \n",
       "6437          Nolan, tell me how you did it. Oh, okay. Would...   \n",
       "1679          So let's go ahead and read it all again. Jane ...   \n",
       "213           That's okay, too, because this is our first we...   \n",
       "1327          it's telling you to add. And what if you're lo...   \n",
       "...                                                         ...   \n",
       "10921         These two numbers are representing what  60 an...   \n",
       "1173          That's fine. There's word problems on the back...   \n",
       "7338          By ones the way Elise did? Or by 10s? The way ...   \n",
       "5727          Yeah, yeah. Is everyone listening? Yeah. If yo...   \n",
       "6382          Good. So if you started if you were doing that...   \n",
       "\n",
       "              math_instruction_gold  math_instruction  \n",
       "utterance_id                                           \n",
       "11524                             1                 1  \n",
       "6437                              1                 1  \n",
       "1679                              1                 1  \n",
       "213                               0                 1  \n",
       "1327                              1                 1  \n",
       "...                             ...               ...  \n",
       "10921                             1                 1  \n",
       "1173                              0                 0  \n",
       "7338                              1                 1  \n",
       "5727                              0                 0  \n",
       "6382                              1                 1  \n",
       "\n",
       "[100 rows x 3 columns]"
      ]
     },
     "execution_count": 75,
     "metadata": {},
     "output_type": "execute_result"
    }
   ],
   "source": [
    "merged_df = df_gold_standard.merge(sampled_df['math_instruction'], left_index=True, right_index=True)\n",
    "\n",
    "merged_df"
   ]
  },
  {
   "cell_type": "code",
   "execution_count": 76,
   "metadata": {},
   "outputs": [
    {
     "name": "stdout",
     "output_type": "stream",
     "text": [
      "Accuracy: 0.95\n",
      "Recall: 0.9367088607594937\n",
      "Precision: 1.0\n"
     ]
    }
   ],
   "source": [
    "TP = ((merged_df['math_instruction_gold'] == 1) & (merged_df['math_instruction'] == 1)).sum()\n",
    "FP = ((merged_df['math_instruction_gold'] == 1) & (merged_df['math_instruction'] == 0)).sum()\n",
    "TN = ((merged_df['math_instruction_gold'] == 0) & (merged_df['math_instruction'] == 0)).sum()\n",
    "FN = ((merged_df['math_instruction_gold'] == 0) & (merged_df['math_instruction'] == 1)).sum()\n",
    "\n",
    "accuracy = (TP + TN) / (TP + TN + FP + FN)\n",
    "recall = TP / (TP + FN)\n",
    "precision = TP / (TP + FP)\n",
    "\n",
    "print(f\"Accuracy: {accuracy}\")\n",
    "print(f\"Recall: {recall}\")\n",
    "print(f\"Precision: {precision}\")"
   ]
  },
  {
   "cell_type": "markdown",
   "metadata": {},
   "source": [
    "Results:\n",
    "\n",
    "- With a precision of 1, we can say that there were no instances where we said it math instruction and you said it wasnt.\n",
    "- With a recall of ~94%, we can say that there were a few instances where we said it was classroom manegeament and you said it was math instruction.\n",
    "- With an accuracy of 95%, we can say that there we agreed on classificaiton 95% of the time."
   ]
  },
  {
   "cell_type": "markdown",
   "metadata": {},
   "source": []
  }
 ],
 "metadata": {
  "kernelspec": {
   "display_name": "Python 3",
   "language": "python",
   "name": "python3"
  },
  "language_info": {
   "codemirror_mode": {
    "name": "ipython",
    "version": 3
   },
   "file_extension": ".py",
   "mimetype": "text/x-python",
   "name": "python",
   "nbconvert_exporter": "python",
   "pygments_lexer": "ipython3",
   "version": "3.10.4"
  }
 },
 "nbformat": 4,
 "nbformat_minor": 2
}
